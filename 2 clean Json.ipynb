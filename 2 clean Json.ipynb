{
 "cells": [
  {
   "cell_type": "code",
   "execution_count": 4,
   "metadata": {},
   "outputs": [],
   "source": [
    "import json"
   ]
  },
  {
   "cell_type": "code",
   "execution_count": 5,
   "metadata": {},
   "outputs": [],
   "source": [
    "fh=open(\"/Users/rick/Desktop/capstone/cap.SQLtoJSON.json\",'r')"
   ]
  },
  {
   "cell_type": "code",
   "execution_count": 6,
   "metadata": {},
   "outputs": [],
   "source": [
    "data = json.load(fh)"
   ]
  },
  {
   "cell_type": "code",
   "execution_count": 7,
   "metadata": {},
   "outputs": [],
   "source": [
    "diaglist = list()"
   ]
  },
  {
   "cell_type": "code",
   "execution_count": 8,
   "metadata": {},
   "outputs": [],
   "source": [
    "for pid in data:\n",
    "            if len(data[pid]['appt']) != 0:\n",
    "                for date in sorted(iter(data[pid]['appt'])):\n",
    "                    if 'withinappt' not in data[pid]['appt'][date] or len(data[pid]['appt'][date]['withinappt']) == 0:\n",
    "                        for icd in range(len(data[pid]['appt'][date]['diag'])):\n",
    "                            diaglist.append(data[pid]['appt'][date]['diag'][icd])\n",
    "                    elif len(data[pid]['appt'][date]['withinappt']) > 0:\n",
    "                        for time in sorted(iter(data[pid]['appt'][date]['withinappt'])):\n",
    "                            for i in data[pid]['appt'][date]['withinappt'][time]['diag']:\n",
    "                                diaglist.append(i)"
   ]
  },
  {
   "cell_type": "code",
   "execution_count": 9,
   "metadata": {},
   "outputs": [
    {
     "data": {
      "text/plain": [
       "[('25000', 4265),\n",
       " ('25002', 1622),\n",
       " ('25001', 297),\n",
       " ('25060', 191),\n",
       " ('25070', 125)]"
      ]
     },
     "execution_count": 9,
     "metadata": {},
     "output_type": "execute_result"
    }
   ],
   "source": [
    "from collections import Counter\n",
    "c = Counter(diaglist)\n",
    "c_most_common = [item[0] for item in c.most_common(10)] \n",
    "c.most_common(5)"
   ]
  },
  {
   "cell_type": "code",
   "execution_count": 10,
   "metadata": {},
   "outputs": [
    {
     "data": {
      "text/plain": [
       "['25000',\n",
       " '25002',\n",
       " '25001',\n",
       " '25060',\n",
       " '25070',\n",
       " '25003',\n",
       " '24900',\n",
       " '25080',\n",
       " '25090',\n",
       " '25062']"
      ]
     },
     "execution_count": 10,
     "metadata": {},
     "output_type": "execute_result"
    }
   ],
   "source": [
    "c_most_common"
   ]
  },
  {
   "cell_type": "code",
   "execution_count": 11,
   "metadata": {},
   "outputs": [
    {
     "data": {
      "text/plain": [
       "61"
      ]
     },
     "execution_count": 11,
     "metadata": {},
     "output_type": "execute_result"
    }
   ],
   "source": [
    "len(c)"
   ]
  },
  {
   "cell_type": "code",
   "execution_count": 12,
   "metadata": {},
   "outputs": [],
   "source": [
    "orderlist = []\n",
    "for pid in data:\n",
    "    if len(data[pid]['appt']) != 0:\n",
    "        for date in sorted(iter(data[pid]['appt'])):\n",
    "            if 'withinappt' not in data[pid]['appt'][date] or len(data[pid]['appt'][date]['withinappt']) == 0:\n",
    "                for icd in range(len(data[pid]['appt'][date]['proc'])):\n",
    "                    orderlist.append(str(data[pid]['appt'][date]['proc'][icd]))\n",
    "            elif len(data[pid]['appt'][date]['withinappt']) > 0:\n",
    "                for time in sorted(iter(data[pid]['appt'][date]['withinappt'])):\n",
    "                    for p in data[pid]['appt'][date]['withinappt'][time]['proc']:\n",
    "                        orderlist.append(p)"
   ]
  },
  {
   "cell_type": "code",
   "execution_count": 13,
   "metadata": {},
   "outputs": [
    {
     "data": {
      "text/plain": [
       "['2617177',\n",
       " '2720773',\n",
       " '2617366',\n",
       " '2617289',\n",
       " '2720559',\n",
       " '2720560',\n",
       " '2617178',\n",
       " '2617204',\n",
       " '2720580',\n",
       " '2617265']"
      ]
     },
     "execution_count": 13,
     "metadata": {},
     "output_type": "execute_result"
    }
   ],
   "source": [
    "cp = Counter(orderlist)\n",
    "cp_most_common = [item[0] for item in cp.most_common(10)]\n",
    "cp_most_common"
   ]
  },
  {
   "cell_type": "code",
   "execution_count": 14,
   "metadata": {},
   "outputs": [
    {
     "data": {
      "text/plain": [
       "[('2617177', 666),\n",
       " ('2720773', 581),\n",
       " ('2617366', 524),\n",
       " ('2617289', 367),\n",
       " ('2720559', 199),\n",
       " ('2720560', 165),\n",
       " ('2617178', 82),\n",
       " ('2617204', 75),\n",
       " ('2720580', 61),\n",
       " ('2617265', 57)]"
      ]
     },
     "execution_count": 14,
     "metadata": {},
     "output_type": "execute_result"
    }
   ],
   "source": [
    "cp.most_common(10)"
   ]
  },
  {
   "cell_type": "code",
   "execution_count": 15,
   "metadata": {},
   "outputs": [],
   "source": [
    "druglist = []\n",
    "for pid in data:\n",
    "    if len(data[pid]['appt']) != 0:\n",
    "        for date in sorted(iter(data[pid]['appt'])):\n",
    "            if 'withinappt' not in data[pid]['appt'][date] or len(data[pid]['appt'][date]['withinappt']) == 0:\n",
    "                for icd in range(len(data[pid]['appt'][date]['drug'])):\n",
    "                    druglist.append(data[pid]['appt'][date]['drug'][icd]['name'])\n",
    "            elif len(data[pid]['appt'][date]['withinappt']) > 0:\n",
    "                for time in sorted(iter(data[pid]['appt'][date]['withinappt'])):\n",
    "                    for p in data[pid]['appt'][date]['withinappt'][time]['drug']:\n",
    "                        druglist.append(p['name'])"
   ]
  },
  {
   "cell_type": "code",
   "execution_count": 16,
   "metadata": {},
   "outputs": [],
   "source": [
    "cd = Counter(druglist)\n",
    "cd_most_common = [item[0] for item in cd.most_common(10)]"
   ]
  },
  {
   "cell_type": "code",
   "execution_count": 17,
   "metadata": {},
   "outputs": [
    {
     "data": {
      "text/plain": [
       "[('967823', 133),\n",
       " ('19076141', 132),\n",
       " ('1000560', 131),\n",
       " ('1308738', 130),\n",
       " ('19078924', 128),\n",
       " ('40234795', 114),\n",
       " ('1154029', 102),\n",
       " ('1506430', 74),\n",
       " ('1517740', 71),\n",
       " ('1301125', 70)]"
      ]
     },
     "execution_count": 17,
     "metadata": {},
     "output_type": "execute_result"
    }
   ],
   "source": [
    "cd.most_common(10)"
   ]
  },
  {
   "cell_type": "code",
   "execution_count": 18,
   "metadata": {},
   "outputs": [],
   "source": [
    "measurementlist = []\n",
    "for pid in data:\n",
    "    if len(data[pid]['appt']) != 0:\n",
    "        for date in sorted(iter(data[pid]['appt'])):\n",
    "            if 'withinappt' not in data[pid]['appt'][date] or len(data[pid]['appt'][date]['withinappt']) == 0:\n",
    "                for icd in range(len(data[pid]['appt'][date]['meas'])):\n",
    "                    measurementlist.append(str(data[pid]['appt'][date]['meas'][icd]))\n",
    "            elif len(data[pid]['appt'][date]['withinappt']) > 0:\n",
    "                for time in sorted(iter(data[pid]['appt'][date]['withinappt'])):\n",
    "                    for m in data[pid]['appt'][date]['withinappt'][time]['meas']:\n",
    "                        measurementlist.append(m)"
   ]
  },
  {
   "cell_type": "code",
   "execution_count": 19,
   "metadata": {},
   "outputs": [],
   "source": [
    "me = Counter(measurementlist)\n",
    "me_most_common = [item[0] for item in me.most_common(10)]"
   ]
  },
  {
   "cell_type": "code",
   "execution_count": 20,
   "metadata": {},
   "outputs": [
    {
     "data": {
      "text/plain": [
       "[('40482801', 220),\n",
       " ('440216', 213),\n",
       " ('438557', 210),\n",
       " ('436230', 148),\n",
       " ('2617206', 131),\n",
       " ('434164', 112),\n",
       " ('441968', 105),\n",
       " ('320536', 99),\n",
       " ('435928', 96),\n",
       " ('4034850', 94)]"
      ]
     },
     "execution_count": 20,
     "metadata": {},
     "output_type": "execute_result"
    }
   ],
   "source": [
    "me.most_common(10)"
   ]
  },
  {
   "cell_type": "code",
   "execution_count": 21,
   "metadata": {},
   "outputs": [],
   "source": [
    "for pid in data:\n",
    "            for date in sorted(iter(data[pid]['appt'])):\n",
    "                if data[pid]['appt'][date]['type'] == 'Emergency Room and Inpatient Visit':\n",
    "                    data[pid]['appt'][date]['type'] = 'I'\n",
    "                elif data[pid]['appt'][date]['type'] == 'Emergency Room Visit':\n",
    "                    data[pid]['appt'][date]['type'] = 'E'\n",
    "                elif data[pid]['appt'][date]['type'] == 'Inpatient Visit':\n",
    "                    data[pid]['appt'][date]['type'] = 'I'\n",
    "                elif data[pid]['appt'][date]['type'] == 'Outpatient Visit':\n",
    "                    data[pid]['appt'][date]['type'] = 'P'\n",
    "                else:\n",
    "                    data[pid]['appt'][date]['type'] = 'X'"
   ]
  },
  {
   "cell_type": "code",
   "execution_count": 22,
   "metadata": {},
   "outputs": [],
   "source": [
    "from copy import deepcopy"
   ]
  },
  {
   "cell_type": "code",
   "execution_count": 23,
   "metadata": {},
   "outputs": [],
   "source": [
    "data2 = deepcopy(data)  "
   ]
  },
  {
   "cell_type": "code",
   "execution_count": 24,
   "metadata": {},
   "outputs": [],
   "source": [
    "#create a outcome measure to study, here we will study 30-day readmission\n",
    "readmit = {}  # a temp table to determine readmission \n",
    "readmitlist = {}  # 1 for patients who had 30-day readmission\n",
    "readmitdata = {}  # full data of patients who had 30-day readmission"
   ]
  },
  {
   "cell_type": "code",
   "execution_count": 25,
   "metadata": {},
   "outputs": [],
   "source": [
    "mortalitylist=[]"
   ]
  },
  {
   "cell_type": "code",
   "execution_count": 26,
   "metadata": {},
   "outputs": [],
   "source": [
    "for pid in data:\n",
    "    if data[pid]['mortalitydate']!='NA':\n",
    "        mortalitylist.append(pid) "
   ]
  },
  {
   "cell_type": "code",
   "execution_count": 27,
   "metadata": {},
   "outputs": [
    {
     "data": {
      "text/plain": [
       "45"
      ]
     },
     "execution_count": 27,
     "metadata": {},
     "output_type": "execute_result"
    }
   ],
   "source": [
    "len(mortalitylist)"
   ]
  },
  {
   "cell_type": "code",
   "execution_count": 28,
   "metadata": {},
   "outputs": [],
   "source": [
    "from datetime import datetime, timedelta"
   ]
  },
  {
   "cell_type": "code",
   "execution_count": 29,
   "metadata": {},
   "outputs": [
    {
     "name": "stdout",
     "output_type": "stream",
     "text": [
      "108 2008-10-01 00:00:00\n",
      "1172 2009-05-01 00:00:00\n",
      "1187 2008-07-23 00:00:00\n",
      "1232 2010-06-01 00:00:00\n",
      "137 2009-12-01 00:00:00\n",
      "153 2009-09-01 00:00:00\n",
      "160 2009-02-01 00:00:00\n",
      "176 2010-02-01 00:00:00\n",
      "179 2010-04-01 00:00:00\n",
      "259 2008-04-01 00:00:00\n",
      "260 2008-04-01 00:00:00\n",
      "261 2010-11-01 00:00:00\n",
      "276 2009-08-01 00:00:00\n",
      "305 2010-01-01 00:00:00\n",
      "323 2009-03-01 00:00:00\n",
      "331 2009-11-01 00:00:00\n",
      "356 2008-09-01 00:00:00\n",
      "370 2010-08-01 00:00:00\n",
      "38 2009-09-01 00:00:00\n",
      "389 2009-04-01 00:00:00\n",
      "441 2010-10-01 00:00:00\n",
      "443 2009-01-01 00:00:00\n",
      "460 2010-09-01 00:00:00\n",
      "467 2008-10-01 00:00:00\n",
      "485 2010-05-01 00:00:00\n",
      "488 2008-10-01 00:00:00\n",
      "500 2009-04-01 00:00:00\n",
      "555 2008-12-01 00:00:00\n",
      "563 2008-09-01 00:00:00\n",
      "61 2009-10-01 00:00:00\n",
      "617 2009-04-01 00:00:00\n",
      "623 2009-07-01 00:00:00\n",
      "628 2010-08-01 00:00:00\n",
      "640 2008-12-01 00:00:00\n",
      "644 2009-09-01 00:00:00\n",
      "645 2008-03-01 00:00:00\n",
      "69 2009-06-01 00:00:00\n",
      "74 2008-10-01 00:00:00\n",
      "77 2008-07-01 00:00:00\n",
      "776 2009-08-01 00:00:00\n",
      "778 2010-01-01 00:00:00\n",
      "836 2009-05-01 00:00:00\n",
      "9 2009-01-01 00:00:00\n",
      "923 2009-12-02 00:00:00\n",
      "957 2008-01-01 00:00:00\n"
     ]
    }
   ],
   "source": [
    "for pid in data:\n",
    "    if data[pid]['mortalitydate']!='NA':\n",
    "        print (pid,datetime.strptime(data[pid]['mortalitydate'],'%Y%m%d'))"
   ]
  },
  {
   "cell_type": "code",
   "execution_count": 30,
   "metadata": {},
   "outputs": [],
   "source": [
    "for pid in data: \n",
    "    for date in sorted(data[pid]['appt']):  # sort by date\n",
    "        if 'withinappt' not in data[pid]['appt'][date] or len(data[pid]['appt'][date]['withinappt']) == 0:\n",
    "            data2[pid]['appt'][date]['diag'] = []\n",
    "            data2[pid]['appt'][date]['proc'] = []\n",
    "            data2[pid]['appt'][date]['drugclass'] = []\n",
    "            data2[pid]['appt'][date]['meas'] = []\n",
    "            data2[pid]['appt'][date]['30dayreadmit'] = 0\n",
    "            data2[pid]['appt'][date]['type'] = data[pid]['appt'][date]['type']"
   ]
  },
  {
   "cell_type": "code",
   "execution_count": 31,
   "metadata": {},
   "outputs": [],
   "source": [
    "#compute readmission outcome\n",
    "for pid in data: \n",
    "    readmit[pid] = []\n",
    "    readmitlist[pid] = 0\n",
    "    for date in sorted(data[pid]['appt']):  # sort by date\n",
    "        if 'withinappt' not in data[pid]['appt'][date] or len(data[pid]['appt'][date]['withinappt']) == 0:\n",
    "            if data[pid]['appt'][date]['type'] == 'I' and len(readmit[pid]) == 0:\n",
    "                readmit[pid].append(data[pid]['appt'][date]['enddate'])  #start counting days from discharge date\n",
    "            elif data[pid]['appt'][date]['type'] == 'I' and len(readmit[pid]) > 0 \\\n",
    "                and readmit[pid][len(readmit[pid]) - 1] != data[pid]['appt'][date]['actualdate'] \\\n",
    "                and data[pid]['appt'][date]['actualdate'] != 'NA' \\\n",
    "                and readmit[pid][0] != 'NA':\n",
    "                    diff = (datetime.strptime(data[pid]['appt'][date]['actualdate'],'%Y-%m-%d') \\\n",
    "                            - datetime.strptime(readmit[pid][0], '%Y-%m-%d')).days\n",
    "                    if diff < 30: #if readmitted within 30 days\n",
    "                        readmitlist[pid] = 1\n",
    "                        data2[pid]['appt'][date]['30dayreadmit'] = 1\n",
    "                    else:\n",
    "                        readmit[pid] = []\n",
    "                        readmit[pid].append(data[pid]['appt'][date]['actualdate'])"
   ]
  },
  {
   "cell_type": "code",
   "execution_count": 32,
   "metadata": {},
   "outputs": [],
   "source": [
    "for pid in data: \n",
    "    readmit[pid] = []\n",
    "    readmitlist[pid] = 0\n",
    "    for date in sorted(data[pid]['appt']):  # sort by date\n",
    "        if 'withinappt' not in data[pid]['appt'][date] or len(data[pid]['appt'][date]['withinappt']) == 0:\n",
    "            if data[pid]['appt'][date]['type'] == 'I' and len(readmit[pid]) == 0:\n",
    "                readmit[pid].append(data[pid]['appt'][date]['enddate'])  #start counting days from discharge date\n",
    "            elif data[pid]['appt'][date]['type'] == 'I' and len(readmit[pid]) > 0 \\\n",
    "                and readmit[pid][len(readmit[pid]) - 1] != data[pid]['appt'][date]['actualdate'] \\\n",
    "                and data[pid]['appt'][date]['actualdate'] != 'NA' \\\n",
    "                and readmit[pid][0] != 'NA':\n",
    "                    diff = (datetime.strptime(data[pid]['appt'][date]['actualdate'],'%Y-%m-%d') \\\n",
    "                            - datetime.strptime(readmit[pid][0], '%Y-%m-%d')).days\n",
    "                    if diff < 30: #if readmitted within 30 days\n",
    "                        readmitlist[pid] = 1\n",
    "                        data2[pid]['appt'][date]['30dayreadmit'] = 1\n",
    "                    else:\n",
    "                        readmit[pid] = []\n",
    "                        readmit[pid].append(data[pid]['appt'][date]['actualdate'])"
   ]
  },
  {
   "cell_type": "code",
   "execution_count": 33,
   "metadata": {},
   "outputs": [],
   "source": [
    "for pid in data:\n",
    "    for date in sorted(data[pid]['appt']):  # sort by date\n",
    "        if 'withinappt' not in data[pid]['appt'][date] or len(data[pid]['appt'][date]['withinappt']) == 0:\n",
    "            for icd in range(len(data[pid]['appt'][date]['diag'])):\n",
    "                #ADD ONLY DIAGNOSIS THAT WE WANT\n",
    "                if data[pid]['appt'][date]['diag'][icd] in diaglist\\\n",
    "                and data[pid]['appt'][date]['diag'][icd] not in data2[pid]['appt'][date]['diag']: \n",
    "                    data2[pid]['appt'][date]['diag'].append(data[pid]['appt'][date]['diag'][icd])\n",
    "            for ip in range(len(data[pid]['appt'][date]['proc'])):\n",
    "                #ADD ONLY PROCEDURES THAT WE WANT\n",
    "                if str(data[pid]['appt'][date]['proc'][ip]) in orderlist\\\n",
    "                and str(data[pid]['appt'][date]['proc'][ip]) not in data2[pid]['appt'][date]['proc']:\n",
    "                    data2[pid]['appt'][date]['proc'].append(str(data[pid]['appt'][date]['proc'][ip]))\n",
    "            for drg in range(len(data[pid]['appt'][date]['drug'])):\n",
    "                #ADD ONLY DRUGS THAT WE WANT\n",
    "                if data[pid]['appt'][date]['drug'][drg]['name'] in druglist and\\\n",
    "                data[pid]['appt'][date]['drug'][drg]['type'].lower() != 'stop' and\\\n",
    "                data[pid]['appt'][date]['drug'][drg]['name'] not in data2[pid]['appt'][date]['drugclass']:\n",
    "                            data2[pid]['appt'][date]['drugclass'].append(data[pid]['appt'][date]['drug'][drg]['class'])\n",
    "                            data2[pid]['appt'][date]['drugclass']=sorted(list(set(data2[pid]['appt'][date]['drugclass'])))\n",
    "            for mea in range(len(data[pid]['appt'][date]['meas'])):\n",
    "                #ADD ONLY MEASUREMENTS THAT WE WANT\n",
    "                if data[pid]['appt'][date]['meas'][mea] in measurementlist\\\n",
    "                and data[pid]['appt'][date]['meas'][mea] not in data2[pid]['appt'][date]['meas']: \n",
    "                    data2[pid]['appt'][date]['meas'].append(data[pid]['appt'][date]['meas'][mea])"
   ]
  },
  {
   "cell_type": "code",
   "execution_count": 34,
   "metadata": {},
   "outputs": [],
   "source": [
    "#extract data of patients with 30-day readmission\n",
    "for pid in readmitlist:\n",
    "    if readmitlist[pid] == 1:\n",
    "        readmitdata[pid] = data2[pid]"
   ]
  },
  {
   "cell_type": "code",
   "execution_count": 35,
   "metadata": {},
   "outputs": [
    {
     "data": {
      "text/plain": [
       "0"
      ]
     },
     "execution_count": 35,
     "metadata": {},
     "output_type": "execute_result"
    }
   ],
   "source": [
    "len(readmitdata)  #patients who were readmitted within 30days"
   ]
  },
  {
   "cell_type": "code",
   "execution_count": 36,
   "metadata": {},
   "outputs": [],
   "source": [
    "#process drug information so that data reflect the length of prescription\n",
    "for pid in data2: \n",
    "    OrderedDate = {}\n",
    "    d=0\n",
    "    for date in sorted(data2[pid]['appt']):\n",
    "        OrderedDate[d]=date\n",
    "        d+=1\n",
    "    for date in sorted(data2[pid]['appt']):\n",
    "        d2=0\n",
    "        if d2>0 and len(data2[pid]['appt'][date]['drug'])>0 and len(data2[pid]['appt'][OrderedDate[d2-1]]['drugclass'])>0:\n",
    "            for i in range(len(data2[pid]['appt'][date]['drug'])) :\n",
    "                if data2[pid]['appt'][date]['drug'][i]['name'] in data2[pid]['appt'][OrderedDate[d2-1]]['drugclass']\\\n",
    "                        and data2[pid]['appt'][date]['drug'][i]['name'] not in data2[pid]['appt'][date]['drugclass'] \\\n",
    "                        and data2[pid]['appt'][date]['drug'][i]['enddate']!=date:\n",
    "                    data2[pid]['appt'][date]['drugclass'].append(i['name'])\n",
    "            data2[pid]['appt'][date]['drugclass']=sorted(list(set(data2[pid]['appt'][date]['drugclass'])))\n",
    "        d2+=1\n",
    "    for date in sorted(data2[pid]['appt']):\n",
    "        for i in range(len(data2[pid]['appt'][date]['proc'])):\n",
    "            if data2[pid]['appt'][date]['proc'][i][0:5]=='Office':\n",
    "                data2[pid]['appt'][date]['proc'][i]='Evaluation'"
   ]
  },
  {
   "cell_type": "code",
   "execution_count": 37,
   "metadata": {},
   "outputs": [],
   "source": [
    "import pickle"
   ]
  },
  {
   "cell_type": "code",
   "execution_count": 38,
   "metadata": {},
   "outputs": [],
   "source": [
    "import os"
   ]
  },
  {
   "cell_type": "code",
   "execution_count": 39,
   "metadata": {},
   "outputs": [],
   "source": [
    "path = os.path.expanduser('/Users/rick/Desktop/capstone/')"
   ]
  },
  {
   "cell_type": "code",
   "execution_count": 40,
   "metadata": {},
   "outputs": [],
   "source": [
    "pickle_out = open(path + 'data_filtered_new.pickle', 'wb') #CLEVER_diagpath_alldiag_\n",
    "pickle.dump(data2, pickle_out)\n",
    "pickle_out.close()"
   ]
  },
  {
   "cell_type": "code",
   "execution_count": 41,
   "metadata": {},
   "outputs": [],
   "source": [
    "pickle_out = open(path + 'readmit_new.pickle', 'wb') #CLEVER_diagpath_alldiag_\n",
    "pickle.dump(readmitlist, pickle_out)\n",
    "pickle_out.close()\n",
    "\n",
    "pickle_out = open(path + 'readmit_data_new.pickle', 'wb') #CLEVER_diagpath_alldiag_\n",
    "pickle.dump(readmitdata, pickle_out)\n",
    "pickle_out.close()"
   ]
  },
  {
   "cell_type": "code",
   "execution_count": 42,
   "metadata": {},
   "outputs": [],
   "source": [
    "JSON_FILTERED_FILE = os.path.expanduser(\"/Users/rick/Desktop/capstone/data_filtered_new.json\")"
   ]
  },
  {
   "cell_type": "code",
   "execution_count": 43,
   "metadata": {},
   "outputs": [],
   "source": [
    "with open(JSON_FILTERED_FILE, 'w') as outfile:\n",
    "            json.dump(data2, outfile, indent=2, sort_keys=True, separators=(',', ': '))"
   ]
  },
  {
   "cell_type": "code",
   "execution_count": null,
   "metadata": {},
   "outputs": [],
   "source": []
  },
  {
   "cell_type": "code",
   "execution_count": null,
   "metadata": {},
   "outputs": [],
   "source": []
  }
 ],
 "metadata": {
  "kernelspec": {
   "display_name": "Python 3",
   "language": "python",
   "name": "python3"
  },
  "language_info": {
   "codemirror_mode": {
    "name": "ipython",
    "version": 3
   },
   "file_extension": ".py",
   "mimetype": "text/x-python",
   "name": "python",
   "nbconvert_exporter": "python",
   "pygments_lexer": "ipython3",
   "version": "3.7.1"
  }
 },
 "nbformat": 4,
 "nbformat_minor": 2
}
